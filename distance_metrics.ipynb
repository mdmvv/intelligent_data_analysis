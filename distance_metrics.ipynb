{
 "cells": [
  {
   "cell_type": "markdown",
   "id": "6bfc9195",
   "metadata": {},
   "source": [
    "# Distance metrics between set elements"
   ]
  },
  {
   "cell_type": "markdown",
   "id": "7eb5dc0e",
   "metadata": {},
   "source": [
    "$$\n",
    "\\begin{align*}\n",
    "& T = \\{(t_i) | t_i = (x_{i1}, x_{i2}, ... , x_{im}), i=1,...,N\\}, \\quad x_{ik} \\in \\mathbb{R} \\\\\n",
    "& \\\\\n",
    "& \\text{Euclidean distance:} \\quad D_2(t_p, t_q) = \\sqrt{\\sum_{k=1}^m (x_{pk} - x_{qk})^2} \\\\\n",
    "& \\text{Hamming distance:} \\quad D_H(t_p, t_q) = \\sum_{k=1}^m |x_{pk} - x_{qk}| \\\\\n",
    "& \\text{Chebyshev distance:} \\quad D_\\infty(t_p, t_q) = \\max_{k=1,...,m} |x_{pk} - x_{qk}| \\\\\n",
    "& \\text{Peak distance:} \\quad D_P(t_p, t_q) = \\frac1m \\sum_{k=1}^m \\frac{|x_{pk} - x_{qk}|}{x_{pk} + x_{qk}} \\\\\n",
    "& \\text{Mahalanobis distance:} \\quad D_M(t_p, t_q) = \\sqrt{(t_p - t_q)^T S^{-1} (t_p - t_q)}, \\quad S - \\text{covariance matrix}\n",
    "\\end{align*}\n",
    "$$"
   ]
  },
  {
   "cell_type": "code",
   "execution_count": 1,
   "id": "bd538cca",
   "metadata": {},
   "outputs": [],
   "source": [
    "import numpy as np\n",
    "import math"
   ]
  },
  {
   "cell_type": "markdown",
   "id": "65076376",
   "metadata": {},
   "source": [
    "Functions for calculating distances between examples p and q:"
   ]
  },
  {
   "cell_type": "markdown",
   "id": "5751642f",
   "metadata": {},
   "source": [
    "Euclidean distance"
   ]
  },
  {
   "cell_type": "code",
   "execution_count": 2,
   "id": "46e32b75",
   "metadata": {},
   "outputs": [],
   "source": [
    "def euclidean_distance(p, q):\n",
    "    distance = 0\n",
    "    sum = 0\n",
    "    for k in range(p.shape[0]):\n",
    "        sum += (p[k] - q[k]) ** 2\n",
    "    distance = math.sqrt(sum)\n",
    "    return distance"
   ]
  },
  {
   "cell_type": "markdown",
   "id": "4bcd344c",
   "metadata": {},
   "source": [
    "Hamming distance"
   ]
  },
  {
   "cell_type": "code",
   "execution_count": 3,
   "id": "9bf45a7d",
   "metadata": {},
   "outputs": [],
   "source": [
    "def hamming_distance(p, q):\n",
    "    distance = 0\n",
    "    sum = 0\n",
    "    for k in range(p.shape[0]):\n",
    "        sum += abs(p[k] - q[k])\n",
    "    distance = sum\n",
    "    return distance"
   ]
  },
  {
   "cell_type": "markdown",
   "id": "de4822be",
   "metadata": {},
   "source": [
    "Chebyshov distance"
   ]
  },
  {
   "cell_type": "code",
   "execution_count": 4,
   "id": "9254650f",
   "metadata": {},
   "outputs": [],
   "source": [
    "def chebyshev_distance(p, q):\n",
    "    distance = 0\n",
    "    max = 0\n",
    "    for k in range(p.shape[0]):\n",
    "        if abs(p[k] - q[k]) > max:\n",
    "            max = abs(p[k] - q[k])\n",
    "    distance = max\n",
    "    return distance"
   ]
  },
  {
   "cell_type": "markdown",
   "id": "a0bdaeca",
   "metadata": {},
   "source": [
    "Peak distance"
   ]
  },
  {
   "cell_type": "code",
   "execution_count": 5,
   "id": "3f4a7458",
   "metadata": {},
   "outputs": [],
   "source": [
    "def peak_distance(p, q):\n",
    "    distance = 0\n",
    "    sum = 0\n",
    "    for k in range(p.shape[0]):\n",
    "        sum += abs(p[k] - q[k]) / (p[k] + q[k])\n",
    "    distance = sum / p.shape[0]\n",
    "    return distance"
   ]
  },
  {
   "cell_type": "markdown",
   "id": "61346e40",
   "metadata": {},
   "source": [
    "Mahalanobis distance"
   ]
  },
  {
   "cell_type": "code",
   "execution_count": 6,
   "id": "764eb273",
   "metadata": {},
   "outputs": [],
   "source": [
    "def mahalanobis_distance(p, q):\n",
    "    difference = p - q\n",
    "    S = np.cov(np.column_stack([p, q]))\n",
    "    distance = math.sqrt(difference.dot(S).dot(difference))\n",
    "    return distance"
   ]
  },
  {
   "cell_type": "markdown",
   "id": "01aa10e3",
   "metadata": {},
   "source": [
    "Creation of an array T of size 4x3 with signs - integers generated randomly in the interval [0, 99]"
   ]
  },
  {
   "cell_type": "code",
   "execution_count": 7,
   "id": "db3033d4",
   "metadata": {},
   "outputs": [
    {
     "data": {
      "text/plain": [
       "array([[61, 64, 42],\n",
       "       [92, 30,  8],\n",
       "       [87, 37, 86],\n",
       "       [20, 37, 68]])"
      ]
     },
     "execution_count": 7,
     "metadata": {},
     "output_type": "execute_result"
    }
   ],
   "source": [
    "size = [4, 3]\n",
    "T = np.random.randint(0, 100, size)\n",
    "T"
   ]
  },
  {
   "cell_type": "markdown",
   "id": "3da98403",
   "metadata": {},
   "source": [
    "Creating 5 4x4 arrays of zeros. For each pair of points, 5 distances are calculated and entered into the corresponding matrices."
   ]
  },
  {
   "cell_type": "code",
   "execution_count": 8,
   "id": "c94a9679",
   "metadata": {},
   "outputs": [],
   "source": [
    "D2 = np.zeros((size[0], size[0]))\n",
    "DH = np.zeros((size[0], size[0]))\n",
    "DC = np.zeros((size[0], size[0]))\n",
    "DP = np.zeros((size[0], size[0]))\n",
    "DM = np.zeros((size[0], size[0]))\n",
    "\n",
    "for i in range(size[0]):\n",
    "    for j in range(size[0]):\n",
    "        D2[i, j] = euclidean_distance(T[i], T[j])\n",
    "        DH[i, j] = hamming_distance(T[i], T[j])\n",
    "        DC[i, j] = chebyshev_distance(T[i], T[j])\n",
    "        DP[i, j] = peak_distance(T[i], T[j])\n",
    "        DM[i, j] = mahalanobis_distance(T[i], T[j])"
   ]
  },
  {
   "cell_type": "markdown",
   "id": "28c74693",
   "metadata": {},
   "source": [
    "The obtained distance matrices:"
   ]
  },
  {
   "cell_type": "code",
   "execution_count": 9,
   "id": "c5aabb8b",
   "metadata": {},
   "outputs": [
    {
     "data": {
      "text/plain": [
       "array([[ 0.        , 57.21013896, 57.80138407, 55.55177765],\n",
       "       [57.21013896,  0.        , 78.47292527, 93.9840412 ],\n",
       "       [57.80138407, 78.47292527,  0.        , 69.37578828],\n",
       "       [55.55177765, 93.9840412 , 69.37578828,  0.        ]])"
      ]
     },
     "execution_count": 9,
     "metadata": {},
     "output_type": "execute_result"
    }
   ],
   "source": [
    "D2"
   ]
  },
  {
   "cell_type": "code",
   "execution_count": 10,
   "id": "69609051",
   "metadata": {},
   "outputs": [
    {
     "data": {
      "text/plain": [
       "array([[  0.,  99.,  97.,  94.],\n",
       "       [ 99.,   0.,  90., 139.],\n",
       "       [ 97.,  90.,   0.,  85.],\n",
       "       [ 94., 139.,  85.,   0.]])"
      ]
     },
     "execution_count": 10,
     "metadata": {},
     "output_type": "execute_result"
    }
   ],
   "source": [
    "DH"
   ]
  },
  {
   "cell_type": "code",
   "execution_count": 11,
   "id": "2ee2285f",
   "metadata": {},
   "outputs": [
    {
     "data": {
      "text/plain": [
       "array([[ 0., 34., 44., 41.],\n",
       "       [34.,  0., 78., 72.],\n",
       "       [44., 78.,  0., 67.],\n",
       "       [41., 72., 67.,  0.]])"
      ]
     },
     "execution_count": 11,
     "metadata": {},
     "output_type": "execute_result"
    }
   ],
   "source": [
    "DC"
   ]
  },
  {
   "cell_type": "code",
   "execution_count": 12,
   "id": "5e3f1221",
   "metadata": {},
   "outputs": [
    {
     "data": {
      "text/plain": [
       "array([[0.        , 0.41477217, 0.2622508 , 0.33662107],\n",
       "       [0.41477217, 0.        , 0.3207326 , 0.51226948],\n",
       "       [0.2622508 , 0.3207326 , 0.        , 0.24768378],\n",
       "       [0.33662107, 0.51226948, 0.24768378, 0.        ]])"
      ]
     },
     "execution_count": 12,
     "metadata": {},
     "output_type": "execute_result"
    }
   ],
   "source": [
    "DP"
   ]
  },
  {
   "cell_type": "code",
   "execution_count": 13,
   "id": "17abc2cc",
   "metadata": {
    "scrolled": true
   },
   "outputs": [
    {
     "data": {
      "text/plain": [
       "array([[   0.        , 2314.36049482, 2362.44375594, 2182.13152674],\n",
       "       [2314.36049482,    0.        , 4354.36355855, 6245.87419822],\n",
       "       [2362.44375594, 4354.36355855,    0.        , 3403.30493785],\n",
       "       [2182.13152674, 6245.87419822, 3403.30493785,    0.        ]])"
      ]
     },
     "execution_count": 13,
     "metadata": {},
     "output_type": "execute_result"
    }
   ],
   "source": [
    "DM"
   ]
  }
 ],
 "metadata": {
  "kernelspec": {
   "display_name": "Python 3 (ipykernel)",
   "language": "python",
   "name": "python3"
  },
  "language_info": {
   "codemirror_mode": {
    "name": "ipython",
    "version": 3
   },
   "file_extension": ".py",
   "mimetype": "text/x-python",
   "name": "python",
   "nbconvert_exporter": "python",
   "pygments_lexer": "ipython3",
   "version": "3.9.13"
  }
 },
 "nbformat": 4,
 "nbformat_minor": 5
}
